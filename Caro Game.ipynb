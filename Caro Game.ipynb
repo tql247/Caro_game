{
 "cells": [
  {
   "cell_type": "code",
   "execution_count": 1,
   "metadata": {},
   "outputs": [],
   "source": [
    "cs = [['.', 'x', '.', '.', '.'], \n",
    "      ['x', 'o', '.', '.', '.'], \n",
    "      ['x', 'o', '.', '.', '.'],\n",
    "      ['x', 'o', '.', '.', 'o'],\n",
    "      ['.', '.', '.', '.', 'o']]"
   ]
  },
  {
   "cell_type": "code",
   "execution_count": 2,
   "metadata": {},
   "outputs": [],
   "source": [
    "class Node:\n",
    "    def __init__(self, state, parent):\n",
    "        self.state = state\n",
    "        self.parent = parent\n",
    "    \n",
    "    def get_state(self):\n",
    "        return self.state\n",
    "    \n",
    "    def get_parent(self):\n",
    "        return self.parent"
   ]
  },
  {
   "cell_type": "code",
   "execution_count": 3,
   "metadata": {},
   "outputs": [],
   "source": [
    "def get_list_point(state, turn):\n",
    "    '''\n",
    "        state: [[]]\n",
    "        turn: string, 'player' or 'bot'\n",
    "        return: list of coordinate\n",
    "    '''\n",
    "    ls_point = list()\n",
    "    form_point = {'player': 'o', 'bot': 'x'}\n",
    "    for row in range(state.__len__()):\n",
    "        for cell in range(state.__len__()):\n",
    "            if state[row][cell] == form_point[turn]:\n",
    "                ls_point.append(str(row) + '-' + str(cell))\n",
    "    return ls_point"
   ]
  },
  {
   "cell_type": "code",
   "execution_count": 4,
   "metadata": {},
   "outputs": [],
   "source": [
    "def forward(ls_point, num_point):\n",
    "    '''\n",
    "        ls_point: list()\n",
    "        num_point: list()\n",
    "        return: new num_point if next point can make a line with previous\n",
    "    '''\n",
    "    x_src, y_src = list(map(int,num_point[-1].split('-')))\n",
    "    x_pre, y_pre = list(map(int,num_point[-2].split('-')))\n",
    "    x_next, y_next = x_src + (x_src - x_pre), y_src + (y_src - y_pre)\n",
    "    if str(x_next) + '-' + str(y_next) in ls_point:\n",
    "        num_point.append(str(x_next) + '-' + str(y_next))\n",
    "        return forward(ls_point, num_point)"
   ]
  },
  {
   "cell_type": "code",
   "execution_count": 5,
   "metadata": {},
   "outputs": [],
   "source": [
    "def near(point_src, point_des):\n",
    "    '''\n",
    "        point_src: str, coordinate of source point, 'x-y'\n",
    "        point_des: str, coordinate of destination point, 'x-y'\n",
    "        return: boolean, True if it close together and False if not\n",
    "    '''\n",
    "    x_src, y_src = list(map(int,point_src.split('-')))\n",
    "    x_des, y_des = list(map(int,point_des.split('-')))\n",
    "    return abs(x_src - x_des) <= 1 and abs(y_src - y_des) <= 1"
   ]
  },
  {
   "cell_type": "code",
   "execution_count": 6,
   "metadata": {},
   "outputs": [],
   "source": [
    "def count_line(state, score, turn):\n",
    "    '''\n",
    "        score: int, number of point in line that current turn want to find\n",
    "        turn: string, 'player' or 'bot'\n",
    "        return: number of line such that point >= score\n",
    "    '''\n",
    "    ls_point = get_list_point(state, turn)\n",
    "    if score == 1:\n",
    "        return ls_point.__len__()\n",
    "    num_line = 0\n",
    "    for point_src in ls_point[:-1]:\n",
    "        num_point = [point_src, ]\n",
    "        for point_des in ls_point[ls_point.index(point_src) + 1:]:\n",
    "            if near(point_src, point_des):\n",
    "                num_point.append(point_des)\n",
    "                forward(ls_point, num_point)\n",
    "            else:\n",
    "                continue\n",
    "            if num_point.__len__() >= score:\n",
    "                num_line += 1\n",
    "            num_point = [point_src, ]\n",
    "    return num_line"
   ]
  },
  {
   "cell_type": "code",
   "execution_count": 7,
   "metadata": {},
   "outputs": [],
   "source": [
    "def count_score(state, turn):\n",
    "    '''\n",
    "        state: [[]]\n",
    "        turn: string, 'bot' or player\n",
    "        return: int, score for each line contain more than 2 points\n",
    "    '''\n",
    "#     state = state.get_value()\n",
    "    table_score = {5: 200, 4:50, 3:10, 2:2}\n",
    "    total_score = 0\n",
    "    for score in table_score:\n",
    "        total_score += count_line(state, score, turn)*table_score[score]\n",
    "    return total_score"
   ]
  },
  {
   "cell_type": "code",
   "execution_count": 8,
   "metadata": {},
   "outputs": [],
   "source": [
    "def profit(state, turn):\n",
    "    '''\n",
    "        state: a Node\n",
    "        turn: player or bot\n",
    "        return: int (value of profit)\n",
    "    '''\n",
    "    score_make_line = count_score(state, turn)\n",
    "#     score_in_opp_line = count_point_in_opp_line(state, turn)\n",
    "#     score_opp_in_line = count_opp_in_line(state, turn)\n",
    "    return score_make_line #+ score_in_opp_line - score_opp_in_line"
   ]
  },
  {
   "cell_type": "code",
   "execution_count": 9,
   "metadata": {},
   "outputs": [],
   "source": [
    "def can_move(state, turn):\n",
    "    '''\n",
    "        state: current state of game\n",
    "        return: list of new state\n",
    "    '''\n",
    "    pass"
   ]
  },
  {
   "cell_type": "code",
   "execution_count": 10,
   "metadata": {},
   "outputs": [],
   "source": [
    "def get_max(crr_state, parent_value):\n",
    "    '''\n",
    "        state: a Node\n",
    "        return: a Node with max profit\n",
    "    '''\n",
    "    best_node = Node(None, None)\n",
    "    max_profit = - 10000\n",
    "    for move in can_move(crr_state, 'bot'):\n",
    "        if parent_value < profit(move, 'bot') and parent_value != -10000:\n",
    "            return [False, None, None]\n",
    "        \n",
    "        if max_profit < profit(move, 'bot'):\n",
    "            max_profit = profit(move, 'bot')\n",
    "            best_node = move\n",
    "    return [True, max_profit, best_node]"
   ]
  },
  {
   "cell_type": "code",
   "execution_count": 11,
   "metadata": {},
   "outputs": [],
   "source": [
    "def get_min(crr_state, parent_value):\n",
    "    '''\n",
    "        state: a Node\n",
    "        return: a Node with min profit\n",
    "    '''\n",
    "    best_node = Node(None, None)\n",
    "    min_profit = 10000\n",
    "    for move in can_move(crr_state, 'player'):\n",
    "        if parent_value > profit(move, 'player') and parent_value != 10000:\n",
    "            return [False, None, None]\n",
    "        \n",
    "        if min_profit > profit(move, 'player'):\n",
    "            min_profit = profit(move, 'player')\n",
    "            best_node = move\n",
    "    return [True, min_profit, best_node]"
   ]
  },
  {
   "cell_type": "code",
   "execution_count": 12,
   "metadata": {},
   "outputs": [],
   "source": [
    "def mini_max(crr_state, deepth, get_max_profit, parent_value):\n",
    "    '''\n",
    "        state: a Node, current state of game\n",
    "        crr_path: list(), the predict move of both player\n",
    "        deepth: int, high of tree\n",
    "        return: new state\n",
    "        \n",
    "        - Calculate profit(state) in list of can_move(state)\n",
    "        - Best move is min or max profit(state) depend of deep value\n",
    "    '''\n",
    "    if deepth == 1:\n",
    "        if get_max_profit:\n",
    "            return get_max(crr_state, parent_value)\n",
    "        return get_min(crr_state, parent_value)\n",
    "    else:\n",
    "        if get_max_profit:\n",
    "            best_node = Node(None, None)\n",
    "            parent_value = - parent_value\n",
    "            for move in can_move(crr_state, 'bot'):\n",
    "                get_value = mini_max(move, deepth - 1, not get_max_profit, parent_value)\n",
    "                \n",
    "                if not get_value[0]:\n",
    "                    continue\n",
    "                \n",
    "                if get_value[1] > parent_value:\n",
    "                    parent_value = get_value[1]\n",
    "                    best_node = move\n",
    "            return [True, parent_value, best_node]\n",
    "        else:\n",
    "            best_node = Node(None, None)\n",
    "            parent_value = - parent_value\n",
    "            for move in can_move(crr_state, 'player'):\n",
    "                get_value = mini_max(move, deepth - 1, not get_max_profit, parent_value)\n",
    "                \n",
    "                if not get_value[0]:\n",
    "                    continue\n",
    "                \n",
    "                if get_value[1] < parent_value:\n",
    "                    parent_value = get_value[1]\n",
    "                    best_node = move\n",
    "            return [True, parent_value, best_node]\n"
   ]
  },
  {
   "cell_type": "code",
   "execution_count": 13,
   "metadata": {},
   "outputs": [],
   "source": [
    "def bot_turn(crr_state, deepth):\n",
    "    '''\n",
    "        crr_state: a Node\n",
    "        return: new state (best move get in minimax(state))\n",
    "    '''\n",
    "    display(mini_max(crr_state, deepth, True, 10000)[2])"
   ]
  },
  {
   "cell_type": "code",
   "execution_count": 14,
   "metadata": {},
   "outputs": [
    {
     "ename": "TypeError",
     "evalue": "'NoneType' object is not iterable",
     "output_type": "error",
     "traceback": [
      "\u001b[1;31m---------------------------------------------------------------------------\u001b[0m",
      "\u001b[1;31mTypeError\u001b[0m                                 Traceback (most recent call last)",
      "\u001b[1;32m<ipython-input-14-72c1e3b34b60>\u001b[0m in \u001b[0;36m<module>\u001b[1;34m\u001b[0m\n\u001b[1;32m----> 1\u001b[1;33m \u001b[0mbot_turn\u001b[0m\u001b[1;33m(\u001b[0m\u001b[0mcs\u001b[0m\u001b[1;33m,\u001b[0m \u001b[1;36m1\u001b[0m\u001b[1;33m)\u001b[0m\u001b[1;33m\u001b[0m\u001b[1;33m\u001b[0m\u001b[0m\n\u001b[0m",
      "\u001b[1;32m<ipython-input-13-40ebe4550062>\u001b[0m in \u001b[0;36mbot_turn\u001b[1;34m(crr_state, deepth)\u001b[0m\n\u001b[0;32m      4\u001b[0m         \u001b[1;32mreturn\u001b[0m\u001b[1;33m:\u001b[0m \u001b[0mnew\u001b[0m \u001b[0mstate\u001b[0m \u001b[1;33m(\u001b[0m\u001b[0mbest\u001b[0m \u001b[0mmove\u001b[0m \u001b[0mget\u001b[0m \u001b[1;32min\u001b[0m \u001b[0mminimax\u001b[0m\u001b[1;33m(\u001b[0m\u001b[0mstate\u001b[0m\u001b[1;33m)\u001b[0m\u001b[1;33m)\u001b[0m\u001b[1;33m\u001b[0m\u001b[1;33m\u001b[0m\u001b[0m\n\u001b[0;32m      5\u001b[0m     '''\n\u001b[1;32m----> 6\u001b[1;33m     \u001b[0mdisplay\u001b[0m\u001b[1;33m(\u001b[0m\u001b[0mmini_max\u001b[0m\u001b[1;33m(\u001b[0m\u001b[0mcrr_state\u001b[0m\u001b[1;33m,\u001b[0m \u001b[0mdeepth\u001b[0m\u001b[1;33m,\u001b[0m \u001b[1;32mTrue\u001b[0m\u001b[1;33m,\u001b[0m \u001b[1;36m10000\u001b[0m\u001b[1;33m)\u001b[0m\u001b[1;33m[\u001b[0m\u001b[1;36m2\u001b[0m\u001b[1;33m]\u001b[0m\u001b[1;33m)\u001b[0m\u001b[1;33m\u001b[0m\u001b[1;33m\u001b[0m\u001b[0m\n\u001b[0m",
      "\u001b[1;32m<ipython-input-12-9cd44ad548f2>\u001b[0m in \u001b[0;36mmini_max\u001b[1;34m(crr_state, deepth, get_max_profit, parent_value)\u001b[0m\n\u001b[0;32m     11\u001b[0m     \u001b[1;32mif\u001b[0m \u001b[0mdeepth\u001b[0m \u001b[1;33m==\u001b[0m \u001b[1;36m1\u001b[0m\u001b[1;33m:\u001b[0m\u001b[1;33m\u001b[0m\u001b[1;33m\u001b[0m\u001b[0m\n\u001b[0;32m     12\u001b[0m         \u001b[1;32mif\u001b[0m \u001b[0mget_max_profit\u001b[0m\u001b[1;33m:\u001b[0m\u001b[1;33m\u001b[0m\u001b[1;33m\u001b[0m\u001b[0m\n\u001b[1;32m---> 13\u001b[1;33m             \u001b[1;32mreturn\u001b[0m \u001b[0mget_max\u001b[0m\u001b[1;33m(\u001b[0m\u001b[0mcrr_state\u001b[0m\u001b[1;33m,\u001b[0m \u001b[0mparent_value\u001b[0m\u001b[1;33m)\u001b[0m\u001b[1;33m\u001b[0m\u001b[1;33m\u001b[0m\u001b[0m\n\u001b[0m\u001b[0;32m     14\u001b[0m         \u001b[1;32mreturn\u001b[0m \u001b[0mget_min\u001b[0m\u001b[1;33m(\u001b[0m\u001b[0mcrr_state\u001b[0m\u001b[1;33m,\u001b[0m \u001b[0mparent_value\u001b[0m\u001b[1;33m)\u001b[0m\u001b[1;33m\u001b[0m\u001b[1;33m\u001b[0m\u001b[0m\n\u001b[0;32m     15\u001b[0m     \u001b[1;32melse\u001b[0m\u001b[1;33m:\u001b[0m\u001b[1;33m\u001b[0m\u001b[1;33m\u001b[0m\u001b[0m\n",
      "\u001b[1;32m<ipython-input-10-8c6d528a4c16>\u001b[0m in \u001b[0;36mget_max\u001b[1;34m(crr_state, parent_value)\u001b[0m\n\u001b[0;32m      6\u001b[0m     \u001b[0mbest_node\u001b[0m \u001b[1;33m=\u001b[0m \u001b[0mNode\u001b[0m\u001b[1;33m(\u001b[0m\u001b[1;32mNone\u001b[0m\u001b[1;33m,\u001b[0m \u001b[1;32mNone\u001b[0m\u001b[1;33m)\u001b[0m\u001b[1;33m\u001b[0m\u001b[1;33m\u001b[0m\u001b[0m\n\u001b[0;32m      7\u001b[0m     \u001b[0mmax_profit\u001b[0m \u001b[1;33m=\u001b[0m \u001b[1;33m-\u001b[0m \u001b[1;36m10000\u001b[0m\u001b[1;33m\u001b[0m\u001b[1;33m\u001b[0m\u001b[0m\n\u001b[1;32m----> 8\u001b[1;33m     \u001b[1;32mfor\u001b[0m \u001b[0mmove\u001b[0m \u001b[1;32min\u001b[0m \u001b[0mcan_move\u001b[0m\u001b[1;33m(\u001b[0m\u001b[0mcrr_state\u001b[0m\u001b[1;33m,\u001b[0m \u001b[1;34m'bot'\u001b[0m\u001b[1;33m)\u001b[0m\u001b[1;33m:\u001b[0m\u001b[1;33m\u001b[0m\u001b[1;33m\u001b[0m\u001b[0m\n\u001b[0m\u001b[0;32m      9\u001b[0m         \u001b[1;32mif\u001b[0m \u001b[0mparent_value\u001b[0m \u001b[1;33m<\u001b[0m \u001b[0mprofit\u001b[0m\u001b[1;33m(\u001b[0m\u001b[0mmove\u001b[0m\u001b[1;33m,\u001b[0m \u001b[1;34m'bot'\u001b[0m\u001b[1;33m)\u001b[0m \u001b[1;32mand\u001b[0m \u001b[0mparent_value\u001b[0m \u001b[1;33m!=\u001b[0m \u001b[1;33m-\u001b[0m\u001b[1;36m10000\u001b[0m\u001b[1;33m:\u001b[0m\u001b[1;33m\u001b[0m\u001b[1;33m\u001b[0m\u001b[0m\n\u001b[0;32m     10\u001b[0m             \u001b[1;32mreturn\u001b[0m \u001b[1;33m[\u001b[0m\u001b[1;32mFalse\u001b[0m\u001b[1;33m,\u001b[0m \u001b[1;32mNone\u001b[0m\u001b[1;33m,\u001b[0m \u001b[1;32mNone\u001b[0m\u001b[1;33m]\u001b[0m\u001b[1;33m\u001b[0m\u001b[1;33m\u001b[0m\u001b[0m\n",
      "\u001b[1;31mTypeError\u001b[0m: 'NoneType' object is not iterable"
     ]
    }
   ],
   "source": [
    "# bot_turn(cs, 1)"
   ]
  },
  {
   "cell_type": "code",
   "execution_count": null,
   "metadata": {},
   "outputs": [],
   "source": [
    "def player(state):\n",
    "    '''\n",
    "        state: current state of game\n",
    "        return: new state with that move\n",
    "    '''\n",
    "    pass"
   ]
  },
  {
   "cell_type": "code",
   "execution_count": null,
   "metadata": {},
   "outputs": [],
   "source": [
    "def finish(state):\n",
    "    '''\n",
    "        state: current state of game\n",
    "        return: True, winner (winner: bot or player)\n",
    "        - True: 5 point in line\n",
    "    '''"
   ]
  },
  {
   "cell_type": "code",
   "execution_count": null,
   "metadata": {},
   "outputs": [],
   "source": [
    "def display(state):\n",
    "    '''\n",
    "        print(state)\n",
    "    '''\n",
    "#     state = cs # state.get_value()\n",
    "    for i in state:\n",
    "        for j in i:\n",
    "            print(j, end=' ')\n",
    "        print()\n",
    "    pass"
   ]
  },
  {
   "cell_type": "code",
   "execution_count": null,
   "metadata": {},
   "outputs": [],
   "source": [
    "def caro_game():\n",
    "    '''\n",
    "        declare: deep\n",
    "    '''\n",
    "    deep = input('Enter the level of game: ')\n",
    "    state = load_game()\n",
    "    while not finish(state)[0]:\n",
    "        state = bot_turn(state, deep)\n",
    "        display(state)\n",
    "        state = player_turn(state)\n",
    "        display(state)\n",
    "    if finish(state)[1] == 'player':\n",
    "#         print('You win!')\n",
    "        pass\n",
    "    else:\n",
    "#         print('Bot win!')\n",
    "        pass\n",
    "    pass"
   ]
  }
 ],
 "metadata": {
  "kernelspec": {
   "display_name": "Python 3",
   "language": "python",
   "name": "python3"
  },
  "language_info": {
   "codemirror_mode": {
    "name": "ipython",
    "version": 3
   },
   "file_extension": ".py",
   "mimetype": "text/x-python",
   "name": "python",
   "nbconvert_exporter": "python",
   "pygments_lexer": "ipython3",
   "version": "3.7.4"
  }
 },
 "nbformat": 4,
 "nbformat_minor": 2
}
